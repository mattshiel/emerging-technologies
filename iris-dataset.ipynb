{
 "cells": [
  {
   "cell_type": "markdown",
   "metadata": {},
   "source": [
    "# The Iris Dataset\n",
    "\n"
   ]
  },
  {
   "cell_type": "markdown",
   "metadata": {},
   "source": [
    "## Introduction\n",
    "\n",
    "Originally introduced by biologist and statitician Ronald Fisher in 1936 at UCI Machine Learning Repository, this dataset is largely considered to be the Hello World of machine learning datasets. It is very popular in the field of teaching and is often used to introduce people to machine learning and visualization of datasets.\n",
    "\n",
    "In 1936 botanist Edgar Anderson was studying the structural variation of three related species of Iris flowers. He collected 50 samples from each species making up 150 total. For each sample he measured the sepal and petal length and width.\n",
    "\n",
    "The three species of Iris flower collected were the _Iris setosa, Iris virginica and Iris versicolor_"
   ]
  },
  {
   "cell_type": "markdown",
   "metadata": {},
   "source": [
    "![image of an Iris flower depicting the petal and sepal length, width](./images/iris_petal_sepal.png)"
   ]
  },
  {
   "cell_type": "markdown",
   "metadata": {},
   "source": [
    "\n",
    "**The data set contains:**\n",
    "\n",
    "* 3 classes of 50 instances each (the class denoting the species of Iris)\n",
    "* Measurements of the sepal and petal, length and width in centimetres for every sample\n"
   ]
  },
  {
   "cell_type": "code",
   "execution_count": null,
   "metadata": {},
   "outputs": [],
   "source": []
  }
 ],
 "metadata": {
  "kernelspec": {
   "display_name": "Python 3",
   "language": "python",
   "name": "python3"
  },
  "language_info": {
   "codemirror_mode": {
    "name": "ipython",
    "version": 3
   },
   "file_extension": ".py",
   "mimetype": "text/x-python",
   "name": "python",
   "nbconvert_exporter": "python",
   "pygments_lexer": "ipython3",
   "version": "3.6.5"
  }
 },
 "nbformat": 4,
 "nbformat_minor": 2
}
