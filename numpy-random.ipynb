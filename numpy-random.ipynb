{
 "cells": [
  {
   "cell_type": "markdown",
   "metadata": {},
   "source": [
    "# The NumPy Package\n",
    "\n",
    "## What is it?\n",
    "\n",
    "NumPy is a Python package used for scientific computing. Often cited as a fundamental package in this area, this is for good reason. It provides a high performance multidimensional array object, and a variety of routines for operations on arrays. NumPy is not part of a basic Python installation. It has to be installed after the Python installation.\n",
    "\n",
    "The implemented multi-dimensional arrays are very efficient as NumPy was mostly written in C; the precompiled mathematical and numerical functions and functionalities of NumPy guarantee excellent execution speed.\n",
    "\n",
    "At its core NumPy provides the ndarray (multidimensional/n-dimensional array) object. This is a grid of values of the same type indexed by a tuple of non-negative integers. This is explained in further detail in the basics section below.\n",
    "\n",
    "## The Basics\n",
    "\n",
    "In Numpy, axes are called dimensions, lets take a hypothetical set of coordinates and see what exactly this means.\n",
    "\n",
    "The coordinates of a point in 3D space [1, 4, 5] has one axis that contains 3 elements ie. has a length of 3.\n",
    "Let's take another example to reinforce this idea.\n",
    "\n",
    "Using the illustrated graph below we can see that the set of coordinates has 2 axes. Axis 1 has a length (shown in colour) of 2, and axis 2 has a length of 3.\n",
    "\n",
    "<mark>FIGURE 1</mark>\n",
    "![Graph displaying axes of coordinate](./images/pointInSpace.jpg)\n",
    "\n",
    "\n",
    "One of NumPy's most powerful features is it's array class: ```ndarray``` This is not to be confused with the Python's array class ```array.array``` which has less functionality and only handles one-dimensional arrays.\n",
    "\n",
    "##### Let's use some of ndarray's functions to prove and reinforce what we learnt above.\n",
    "\n",
    "#### A Simple Example\n",
    "\n",
    "Before we use NumPy we have to import it.\n",
    "It is very common to see NumPy renamed to \"np\".\n",
    "\n"
   ]
  },
  {
   "cell_type": "code",
   "execution_count": 36,
   "metadata": {},
   "outputs": [],
   "source": [
    "import numpy as np"
   ]
  },
  {
   "cell_type": "markdown",
   "metadata": {},
   "source": [
    "From here let's create an array of values that represent distances eg. in metres"
   ]
  },
  {
   "cell_type": "code",
   "execution_count": 37,
   "metadata": {},
   "outputs": [],
   "source": [
    "mvalues = [45.26, 10.9, 26.3, 80.5, 24.1, 66.1, 19.8, 3.0, 8.8, 132.5]"
   ]
  },
  {
   "cell_type": "markdown",
   "metadata": {},
   "source": [
    "Great, now let's do some NumPy stuff on that. We're going to turn our array of values into a one-dimensional NumPy array and print it to the screen."
   ]
  },
  {
   "cell_type": "code",
   "execution_count": 38,
   "metadata": {},
   "outputs": [
    {
     "name": "stdout",
     "output_type": "stream",
     "text": [
      "[ 45.26  10.9   26.3   80.5   24.1   66.1   19.8    3.     8.8  132.5 ]\n"
     ]
    }
   ],
   "source": [
    "M = np.array(mvalues)\n",
    "print(M)"
   ]
  },
  {
   "cell_type": "markdown",
   "metadata": {},
   "source": [
    "Now let's say that we wanted to convert all of our values in metres to centimetres. This is easily achieved using a NumPy array and scalar multiplication."
   ]
  },
  {
   "cell_type": "code",
   "execution_count": 39,
   "metadata": {},
   "outputs": [
    {
     "name": "stdout",
     "output_type": "stream",
     "text": [
      "[ 4526.  1090.  2630.  8050.  2410.  6610.  1980.   300.   880. 13250.]\n"
     ]
    }
   ],
   "source": [
    "print(M*100)"
   ]
  },
  {
   "cell_type": "markdown",
   "metadata": {},
   "source": [
    "If we print out M again you can see that the values have not been changed."
   ]
  },
  {
   "cell_type": "code",
   "execution_count": 40,
   "metadata": {},
   "outputs": [
    {
     "name": "stdout",
     "output_type": "stream",
     "text": [
      "[ 45.26  10.9   26.3   80.5   24.1   66.1   19.8    3.     8.8  132.5 ]\n"
     ]
    }
   ],
   "source": [
    "print(M)"
   ]
  },
  {
   "cell_type": "markdown",
   "metadata": {},
   "source": [
    "Now if you wanted to do the same thing using standard Python, as shown below, then hopefully you can clearly see the advantage in using NumPy instead."
   ]
  },
  {
   "cell_type": "code",
   "execution_count": 41,
   "metadata": {},
   "outputs": [
    {
     "name": "stdout",
     "output_type": "stream",
     "text": [
      "[4526.0, 1090.0, 2630.0, 8050.0, 2410.0, 6609.999999999999, 1980.0, 300.0, 880.0000000000001, 13250.0]\n"
     ]
    }
   ],
   "source": [
    "mvalues = [ i*100 for i in mvalues] \n",
    "print(mvalues)"
   ]
  },
  {
   "cell_type": "markdown",
   "metadata": {},
   "source": [
    "The values for mvalues have also all been permanently changed now, whereas we didn't need to alter them when using NumPy "
   ]
  },
  {
   "cell_type": "markdown",
   "metadata": {},
   "source": [
    "Earlier I explained that NumPy provides the ndarray object. \"M\" is an instance of the class ```numpy.ndarray```, proven below:"
   ]
  },
  {
   "cell_type": "code",
   "execution_count": 42,
   "metadata": {},
   "outputs": [
    {
     "data": {
      "text/plain": [
       "numpy.ndarray"
      ]
     },
     "execution_count": 42,
     "metadata": {},
     "output_type": "execute_result"
    }
   ],
   "source": [
    "type(M)"
   ]
  },
  {
   "cell_type": "markdown",
   "metadata": {},
   "source": [
    "# The NumPy Random Package"
   ]
  },
  {
   "cell_type": "markdown",
   "metadata": {},
   "source": [
    "In order to use the random package the name of package must be specified followed by the function. \n",
    "\n",
    "eg. ```np.random.rand(3,3)``` (It's implied that NumPy has been imported)"
   ]
  },
  {
   "cell_type": "markdown",
   "metadata": {},
   "source": [
    "## Simple random data\n",
    "Let's go over some of the functions that NumPy provides to help us deal with simple random data. \n",
    "\n",
    "### rand\n",
    "```rand``` is used to generate random values in a given shape. The dimensions of the input should be positive and if they are not or they're empty a float will be returned. The example below creates an array of specified shape and populates it with random samples from a uniform distribution over [0, 1).\n",
    "\n",
    "Let's use that example and construct a 2D array of random values. If you wanted a 3D array or greater you would simply add an additional parameter to the function."
   ]
  },
  {
   "cell_type": "code",
   "execution_count": 162,
   "metadata": {},
   "outputs": [
    {
     "data": {
      "text/plain": [
       "array([[0.47745591, 0.51006486, 0.16514169],\n",
       "       [0.99200483, 0.82997841, 0.71740133],\n",
       "       [0.23406415, 0.0706828 , 0.3194022 ]])"
      ]
     },
     "execution_count": 162,
     "metadata": {},
     "output_type": "execute_result"
    }
   ],
   "source": [
    "np.random.rand(3,3)"
   ]
  },
  {
   "cell_type": "markdown",
   "metadata": {},
   "source": [
    "### randn"
   ]
  },
  {
   "cell_type": "markdown",
   "metadata": {},
   "source": [
    "```randn``` Returns a sample (or samples) from the “standard normal” distribution.\n",
    "\n",
    "A standard normal distribution is a normal distribution where the average value is 0, and the variance is 1. \n",
    "\n",
    "When the function is provided a positive \"int_like or int-convertible arguments\", randn generates an array of specified shape (d0, d1, ..., dn), filled with random floats sampled from this distribution. Like ```rand```, a single float is returned if no argument is provided."
   ]
  },
  {
   "cell_type": "code",
   "execution_count": 163,
   "metadata": {},
   "outputs": [
    {
     "data": {
      "text/plain": [
       "array([[-1.61446141, -0.54951317],\n",
       "       [-0.59537313,  1.92070288],\n",
       "       [ 0.22518985,  1.0512042 ]])"
      ]
     },
     "execution_count": 163,
     "metadata": {},
     "output_type": "execute_result"
    }
   ],
   "source": [
    "np.random.randn(3,2)"
   ]
  },
  {
   "cell_type": "markdown",
   "metadata": {},
   "source": [
    "Additional computations can be added for greater specificity"
   ]
  },
  {
   "cell_type": "code",
   "execution_count": 164,
   "metadata": {},
   "outputs": [
    {
     "data": {
      "text/plain": [
       "array([[7.52258729, 5.83368878],\n",
       "       [8.43516828, 7.26576665],\n",
       "       [8.38640053, 8.89305758]])"
      ]
     },
     "execution_count": 164,
     "metadata": {},
     "output_type": "execute_result"
    }
   ],
   "source": [
    "np.random.randn(3,2) + 8"
   ]
  },
  {
   "cell_type": "markdown",
   "metadata": {},
   "source": [
    "### randint\n",
    "\n"
   ]
  },
  {
   "cell_type": "code",
   "execution_count": null,
   "metadata": {},
   "outputs": [],
   "source": []
  }
 ],
 "metadata": {
  "kernelspec": {
   "display_name": "Python 3",
   "language": "python",
   "name": "python3"
  },
  "language_info": {
   "codemirror_mode": {
    "name": "ipython",
    "version": 3
   },
   "file_extension": ".py",
   "mimetype": "text/x-python",
   "name": "python",
   "nbconvert_exporter": "python",
   "pygments_lexer": "ipython3",
   "version": "3.6.5"
  }
 },
 "nbformat": 4,
 "nbformat_minor": 2
}
