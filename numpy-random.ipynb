{
 "cells": [
  {
   "cell_type": "markdown",
   "metadata": {},
   "source": [
    "This notebook is broken into two sections, firstly an introduction to the NumPy package and secondly a breakdown of the NumPy random package.\n",
    "\n",
    "\n",
    "# The NumPy Package\n",
    "\n",
    "## What is it?\n",
    "\n",
    "NumPy is a Python package used for scientific computing. Often cited as a fundamental package in this area, this is for good reason. It provides a high performance multidimensional array object, and a variety of routines for operations on arrays. NumPy is not part of a basic Python installation. It has to be installed after the Python installation.\n",
    "\n",
    "The implemented multi-dimensional arrays are very efficient as NumPy was mostly written in C; the precompiled mathematical and numerical functions and functionalities of NumPy guarantee excellent execution speed.\n",
    "\n",
    "At its core NumPy provides the ndarray (multidimensional/n-dimensional array) object. This is a grid of values of the same type indexed by a tuple of non-negative integers. This is explained in further detail in the basics section below.\n",
    "\n",
    "## The Basics\n",
    "\n",
    "In Numpy, axes are called dimensions, lets take a hypothetical set of coordinates and see what exactly this means.\n",
    "\n",
    "The coordinates of a point in 3D space [1, 4, 5] has one axis that contains 3 elements ie. has a length of 3.\n",
    "Let's take another example to reinforce this idea.\n",
    "\n",
    "Using the illustrated graph below we can see that the set of coordinates has 2 axes. Axis 1 has a length (shown in colour) of 2, and axis 2 has a length of 3.\n",
    "\n",
    "<mark>FIGURE 1</mark>\n",
    "![Graph displaying axes of coordinate](./images/pointInSpace.jpg)\n",
    "\n",
    "\n",
    "One of NumPy's most powerful features is it's array class: ```ndarray``` This is not to be confused with the Python's array class ```array.array``` which has less functionality and only handles one-dimensional arrays.\n",
    "\n",
    "##### Let's use some of ndarray's functions to prove and reinforce what we learnt above.\n",
    "\n",
    "#### A Simple Example\n",
    "\n",
    "Before we use NumPy we have to import it.\n",
    "It is very common to see NumPy renamed to \"np\".\n",
    "\n"
   ]
  },
  {
   "cell_type": "code",
   "execution_count": 1,
   "metadata": {},
   "outputs": [],
   "source": [
    "import numpy as np"
   ]
  },
  {
   "cell_type": "markdown",
   "metadata": {},
   "source": [
    "From here let's create an array of values that represent distances eg. in metres"
   ]
  },
  {
   "cell_type": "code",
   "execution_count": 2,
   "metadata": {},
   "outputs": [],
   "source": [
    "mvalues = [45.26, 10.9, 26.3, 80.5, 24.1, 66.1, 19.8, 3.0, 8.8, 132.5]"
   ]
  },
  {
   "cell_type": "markdown",
   "metadata": {},
   "source": [
    "Great, now let's do some NumPy stuff on that. We're going to turn our array of values into a one-dimensional NumPy array and print it to the screen."
   ]
  },
  {
   "cell_type": "code",
   "execution_count": 3,
   "metadata": {},
   "outputs": [
    {
     "name": "stdout",
     "output_type": "stream",
     "text": [
      "[ 45.26  10.9   26.3   80.5   24.1   66.1   19.8    3.     8.8  132.5 ]\n"
     ]
    }
   ],
   "source": [
    "M = np.array(mvalues)\n",
    "print(M)"
   ]
  },
  {
   "cell_type": "markdown",
   "metadata": {},
   "source": [
    "Now let's say that we wanted to convert all of our values in metres to centimetres. This is easily achieved using a NumPy array and scalar multiplication."
   ]
  },
  {
   "cell_type": "code",
   "execution_count": 4,
   "metadata": {},
   "outputs": [
    {
     "name": "stdout",
     "output_type": "stream",
     "text": [
      "[ 4526.  1090.  2630.  8050.  2410.  6610.  1980.   300.   880. 13250.]\n"
     ]
    }
   ],
   "source": [
    "print(M*100)"
   ]
  },
  {
   "cell_type": "markdown",
   "metadata": {},
   "source": [
    "If we print out M again you can see that the values have not been changed."
   ]
  },
  {
   "cell_type": "code",
   "execution_count": 5,
   "metadata": {},
   "outputs": [
    {
     "name": "stdout",
     "output_type": "stream",
     "text": [
      "[ 45.26  10.9   26.3   80.5   24.1   66.1   19.8    3.     8.8  132.5 ]\n"
     ]
    }
   ],
   "source": [
    "print(M)"
   ]
  },
  {
   "cell_type": "markdown",
   "metadata": {},
   "source": [
    "Now if you wanted to do the same thing using standard Python, as shown below, then hopefully you can clearly see the advantage in using NumPy instead."
   ]
  },
  {
   "cell_type": "code",
   "execution_count": 6,
   "metadata": {},
   "outputs": [
    {
     "name": "stdout",
     "output_type": "stream",
     "text": [
      "[4526.0, 1090.0, 2630.0, 8050.0, 2410.0, 6609.999999999999, 1980.0, 300.0, 880.0000000000001, 13250.0]\n"
     ]
    }
   ],
   "source": [
    "mvalues = [ i*100 for i in mvalues] \n",
    "print(mvalues)"
   ]
  },
  {
   "cell_type": "markdown",
   "metadata": {},
   "source": [
    "The values for mvalues have also all been permanently changed now, whereas we didn't need to alter them when using NumPy "
   ]
  },
  {
   "cell_type": "markdown",
   "metadata": {},
   "source": [
    "Earlier I explained that NumPy provides the ndarray object. \"M\" is an instance of the class ```numpy.ndarray```, proven below:"
   ]
  },
  {
   "cell_type": "code",
   "execution_count": 7,
   "metadata": {},
   "outputs": [
    {
     "data": {
      "text/plain": [
       "numpy.ndarray"
      ]
     },
     "execution_count": 7,
     "metadata": {},
     "output_type": "execute_result"
    }
   ],
   "source": [
    "type(M)"
   ]
  },
  {
   "cell_type": "markdown",
   "metadata": {},
   "source": [
    "# The NumPy Random Package"
   ]
  },
  {
   "cell_type": "markdown",
   "metadata": {},
   "source": [
    "The NumPy random package is used for sampling and generating random data. Across this section I've split the descriptions and examples into 4 sections\n",
    "\n",
    "    Simple Random Data\n",
    "    Permutations\n",
    "    Distributions\n",
    "    Random Generator\n",
    "\n",
    "In order to use the random package the name of package must be specified followed by the function. \n",
    "\n",
    "eg. ```np.random.rand(3,3)``` (It's implied that NumPy has been imported as np)\n",
    "\n",
    "As a precursor, you will notation that looks like this **[num, num]** across this notebook\n",
    "\n",
    "This is known as interval notation. This brief explanation from Wikipedia nicely encapsulates the notations found in this notebook.\n",
    "\n",
    "    \"In mathematics, a (real) interval is a set of real numbers with the property that any number that lies between two numbers in the set is also included in the set.\"\n",
    "    \n",
    "    \"For example, (0,1) means greater than 0 and less than 1. A closed interval is an interval which includes all its limit points, and is denoted with square brackets. For example, [0,1] means greater than or equal to 0 and less than or equal to 1. A half-open interval includes only one of its endpoints, and is denoted by mixing the notations for open and closed intervals. (0,1] means greater than 0 and less than or equal to 1, while [0,1) means greater than or equal to 0 and less than 1.\"\n"
   ]
  },
  {
   "cell_type": "markdown",
   "metadata": {},
   "source": [
    "## Simple Random Data\n",
    "Let's go over some of the functions that NumPy provides to help us deal with simple random data. \n",
    "\n",
    "### rand\n",
    "```rand``` is used to generate random values in a given shape. The dimensions of the input should be positive and if they are not or they're empty a float will be returned. The example below creates an array of specified shape and populates it with random samples from a uniform distribution over [0, 1).\n",
    "\n",
    "Let's use that example and construct a 2D array of random values. If you wanted a 3D array or greater you would simply add an additional parameter to the function."
   ]
  },
  {
   "cell_type": "code",
   "execution_count": 8,
   "metadata": {},
   "outputs": [
    {
     "data": {
      "text/plain": [
       "array([[0.88981089, 0.66664608, 0.74680773],\n",
       "       [0.31256506, 0.34909616, 0.93032361],\n",
       "       [0.89362202, 0.89469844, 0.29596113]])"
      ]
     },
     "execution_count": 8,
     "metadata": {},
     "output_type": "execute_result"
    }
   ],
   "source": [
    "np.random.rand(3,3)"
   ]
  },
  {
   "cell_type": "markdown",
   "metadata": {},
   "source": [
    "### randn"
   ]
  },
  {
   "cell_type": "markdown",
   "metadata": {},
   "source": [
    "```randn``` Returns a sample (or samples) from the “standard normal” distribution.\n",
    "\n",
    "A standard normal distribution is a normal distribution where the average value is 0, and the variance is 1. \n",
    "\n",
    "When the function is provided a positive \"int_like or int-convertible arguments\", randn generates an array of specified shape (d0, d1, ..., dn), filled with random floats sampled from this distribution. Like ```rand```, a single float is returned if no argument is provided."
   ]
  },
  {
   "cell_type": "code",
   "execution_count": 9,
   "metadata": {},
   "outputs": [
    {
     "data": {
      "text/plain": [
       "array([[ 1.81993128, -0.85297577],\n",
       "       [ 0.54042209, -1.17385885],\n",
       "       [-0.58939928, -1.08759058]])"
      ]
     },
     "execution_count": 9,
     "metadata": {},
     "output_type": "execute_result"
    }
   ],
   "source": [
    "np.random.randn(3,2)"
   ]
  },
  {
   "cell_type": "markdown",
   "metadata": {},
   "source": [
    "Additional computations can be added for greater specificity"
   ]
  },
  {
   "cell_type": "code",
   "execution_count": 10,
   "metadata": {},
   "outputs": [
    {
     "data": {
      "text/plain": [
       "array([[7.50025508, 6.58747511],\n",
       "       [7.16519286, 6.86279148],\n",
       "       [9.22786626, 8.50717051]])"
      ]
     },
     "execution_count": 10,
     "metadata": {},
     "output_type": "execute_result"
    }
   ],
   "source": [
    "np.random.randn(3,2) + 8"
   ]
  },
  {
   "cell_type": "markdown",
   "metadata": {},
   "source": [
    "### randint\n",
    "\n"
   ]
  },
  {
   "cell_type": "markdown",
   "metadata": {},
   "source": [
    "```randint``` returns random integers from low (inclusive) to high (exclusive).\n",
    "\n",
    "the parameters for ```randint``` are **(low, high=None, size=None, dtype='l')**\n",
    "\n",
    "**low and high** simply refer to the lowest and highest numbers that can be drawn from the distribution,\n",
    "\n",
    "**size** refers to the output shape,\n",
    "\n",
    "**dtype** is optional but if you have a desired output type you may specifiy it here.\n",
    "\n",
    "The example below generates a 4 x 4 array of ints between 0 and 4, inclusive:"
   ]
  },
  {
   "cell_type": "code",
   "execution_count": 11,
   "metadata": {},
   "outputs": [
    {
     "data": {
      "text/plain": [
       "array([[1, 4, 3, 3],\n",
       "       [3, 1, 0, 0],\n",
       "       [2, 4, 1, 0],\n",
       "       [4, 1, 3, 2]])"
      ]
     },
     "execution_count": 11,
     "metadata": {},
     "output_type": "execute_result"
    }
   ],
   "source": [
    "np.random.randint(5, size=(4, 4))"
   ]
  },
  {
   "cell_type": "markdown",
   "metadata": {},
   "source": [
    "randint is often used for more simple operations eg. generate a random number between 1-10"
   ]
  },
  {
   "cell_type": "code",
   "execution_count": 12,
   "metadata": {},
   "outputs": [
    {
     "data": {
      "text/plain": [
       "3"
      ]
     },
     "execution_count": 12,
     "metadata": {},
     "output_type": "execute_result"
    }
   ],
   "source": [
    "np.random.randint(1,10)"
   ]
  },
  {
   "cell_type": "markdown",
   "metadata": {},
   "source": [
    "### random_integers"
   ]
  },
  {
   "cell_type": "markdown",
   "metadata": {},
   "source": [
    "`random_integers` Returns random integers of type np.int from the “discrete uniform” distribution in the closed interval [low, high].\n",
    "\n",
    "`random_integers` is similar to ```randint```, only for the closed interval [low, high]. \n",
    "\n",
    "0 is the lowest value if high is omitted when using `random_integers`, whereas it is 1 in the case that high is omitted when using `randint`.\n",
    "\n",
    "This function however has been deprecated so it is advised you use ```randint``` instead.\n",
    "\n",
    "ie. `np.random.random_integers(10) --> randint(1, 10 + 1)`\n",
    "\n",
    "### random_sample"
   ]
  },
  {
   "cell_type": "markdown",
   "metadata": {},
   "source": [
    "`random_sample` returns random floats in the half-open interval [0.0, 1.0). \n",
    "The inputs may be an int or a tuple of ints denoting the shape of the array.\n",
    "\n",
    "This example shows how to draw a random sample from 0-5. "
   ]
  },
  {
   "cell_type": "code",
   "execution_count": 13,
   "metadata": {},
   "outputs": [
    {
     "data": {
      "text/plain": [
       "array([[2.71419276, 3.53010756, 0.59958176, ..., 0.72964863, 0.05022018,\n",
       "        2.9448448 ],\n",
       "       [2.39458101, 0.23164346, 0.767995  , ..., 1.59581884, 3.17897044,\n",
       "        3.91270635],\n",
       "       [4.00843099, 2.93041137, 4.84834112, ..., 2.05895403, 2.81651525,\n",
       "        0.8252338 ],\n",
       "       ...,\n",
       "       [3.36138708, 1.80081148, 2.48923811, ..., 0.27676796, 3.71053645,\n",
       "        4.38089408],\n",
       "       [2.09787365, 3.36552579, 3.29208614, ..., 2.6224719 , 1.08716445,\n",
       "        0.53819027],\n",
       "       [0.81631384, 1.29186159, 4.90696863, ..., 3.49949531, 2.48925771,\n",
       "        3.54579615]])"
      ]
     },
     "execution_count": 13,
     "metadata": {},
     "output_type": "execute_result"
    }
   ],
   "source": [
    "x = 5 * np.random.random_sample((200, 200)) + 0\n",
    "x"
   ]
  },
  {
   "cell_type": "markdown",
   "metadata": {},
   "source": [
    "Below is a plot of the interval above which shows the continuous uniform distribution produced by `random_sample`, in the form of a histogram"
   ]
  },
  {
   "cell_type": "code",
   "execution_count": 14,
   "metadata": {},
   "outputs": [
    {
     "data": {
      "text/plain": [
       "<Figure size 640x480 with 1 Axes>"
      ]
     },
     "metadata": {},
     "output_type": "display_data"
    }
   ],
   "source": [
    "import matplotlib.pyplot as plt\n",
    "\n",
    "num_bins = [0,1,2,3,4,5]\n",
    "n, bins, patches = plt.hist(x, num_bins, facecolor = 'green', alpha = 0.8)\n",
    "plt.show()"
   ]
  },
  {
   "cell_type": "markdown",
   "metadata": {},
   "source": [
    "## random, ranf and sample"
   ]
  },
  {
   "cell_type": "markdown",
   "metadata": {},
   "source": [
    "An interesting point to note is the homogeniety between the `random_sample`, `random`, `ranf` and `sample` functions. As noted in the official NumPy documentation, all of these functions,\n",
    "\n",
    "    \"Return random floats in the half-open interval [0.0, 1.0).\"\n",
    "\n",
    "To prove that the functions are the same and can be used interchangeably we can use the `is` keyword to compare object identity ie. \"Do I have two names for the same object?\""
   ]
  },
  {
   "cell_type": "code",
   "execution_count": 15,
   "metadata": {},
   "outputs": [
    {
     "data": {
      "text/plain": [
       "True"
      ]
     },
     "execution_count": 15,
     "metadata": {},
     "output_type": "execute_result"
    }
   ],
   "source": [
    "np.random.random_sample is np.random.random"
   ]
  },
  {
   "cell_type": "code",
   "execution_count": 16,
   "metadata": {},
   "outputs": [
    {
     "data": {
      "text/plain": [
       "True"
      ]
     },
     "execution_count": 16,
     "metadata": {},
     "output_type": "execute_result"
    }
   ],
   "source": [
    "np.random.random_sample is np.random.ranf"
   ]
  },
  {
   "cell_type": "code",
   "execution_count": 17,
   "metadata": {},
   "outputs": [
    {
     "data": {
      "text/plain": [
       "True"
      ]
     },
     "execution_count": 17,
     "metadata": {},
     "output_type": "execute_result"
    }
   ],
   "source": [
    "np.random.random_sample is np.random.sample"
   ]
  },
  {
   "cell_type": "markdown",
   "metadata": {},
   "source": [
    "## choice\n",
    "\n",
    "`choice` generates a random sample from a given 1-D array. If you use a ndarray as the input then a random number will be selected from the elements provided. This may be useful for situations where you have a large pool of numbers to choose from and need a random selection eg."
   ]
  },
  {
   "cell_type": "code",
   "execution_count": 18,
   "metadata": {},
   "outputs": [
    {
     "data": {
      "text/plain": [
       "1004"
      ]
     },
     "execution_count": 18,
     "metadata": {},
     "output_type": "execute_result"
    }
   ],
   "source": [
    "j = [2,4,9,125,3,19,8,62,1004,203]\n",
    "o = np.array(j)\n",
    "np.random.choice(o)"
   ]
  },
  {
   "cell_type": "markdown",
   "metadata": {},
   "source": [
    "The sample assumes a uniform distribution over all entries, however, if we wanted to change this and account for different probabilities we can use a parameter to set the probability for each individual entry. Remember that probability must add up to 1."
   ]
  },
  {
   "cell_type": "code",
   "execution_count": 19,
   "metadata": {},
   "outputs": [
    {
     "data": {
      "text/plain": [
       "19"
      ]
     },
     "execution_count": 19,
     "metadata": {},
     "output_type": "execute_result"
    }
   ],
   "source": [
    "np.random.choice(o, p = [0.1, 0.025, 0.025, 0.025, 0.025, 0.1, 0.1, 0.3, 0.2, 0.1])"
   ]
  },
  {
   "cell_type": "markdown",
   "metadata": {},
   "source": [
    "## bytes"
   ]
  },
  {
   "cell_type": "markdown",
   "metadata": {},
   "source": [
    "`bytes` is a useful function that simply return a string of bytes of given length eg."
   ]
  },
  {
   "cell_type": "code",
   "execution_count": 20,
   "metadata": {},
   "outputs": [
    {
     "data": {
      "text/plain": [
       "b'\\xe3\\xc9.\\x97At\\xd5\\xfe\\xf7\\xe3\\xf0\\xd3\\xe5\\x1b/'"
      ]
     },
     "execution_count": 20,
     "metadata": {},
     "output_type": "execute_result"
    }
   ],
   "source": [
    "np.random.bytes(15)"
   ]
  },
  {
   "cell_type": "code",
   "execution_count": null,
   "metadata": {},
   "outputs": [],
   "source": []
  }
 ],
 "metadata": {
  "kernelspec": {
   "display_name": "Python 3",
   "language": "python",
   "name": "python3"
  },
  "language_info": {
   "codemirror_mode": {
    "name": "ipython",
    "version": 3
   },
   "file_extension": ".py",
   "mimetype": "text/x-python",
   "name": "python",
   "nbconvert_exporter": "python",
   "pygments_lexer": "ipython3",
   "version": "3.6.5"
  }
 },
 "nbformat": 4,
 "nbformat_minor": 2
}
