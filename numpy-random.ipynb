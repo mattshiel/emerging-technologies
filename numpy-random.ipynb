{
 "cells": [
  {
   "cell_type": "markdown",
   "metadata": {},
   "source": [
    "# The NumPy Package\n",
    "\n",
    "## What is it?\n",
    "\n",
    "NumPy is a Python package used for scientific computing. Often cited as a fundamental package in this area, this is for good reason. It provides a high performance multidimensional array object, and a variety of routines for operations on arrays. NumPy is not part of a basic Python installation. It has to be installed after the Python installation.\n",
    "\n",
    "The implemented multi-dimensional arrays are very efficient as NumPy was mostly written in C; the precompiled mathematical and numerical functions and functionalities of NumPy guarantee excellent execution speed.\n",
    "\n",
    "At its core NumPy provides the ndarray (multidimensional/n-dimensional array) object. This is a grid of values of the same type indexed by a tuple of non-negative integers. This is explained in further detail in the basics section below.\n",
    "\n",
    "## The Basics\n",
    "\n",
    "In Numpy, axes are called dimensions, lets take a hypothetical set of coordinates and see what exactly this means.\n",
    "\n",
    "The coordinates of a point in 3D space [1, 4, 5] has one axis that contains 3 elements ie. has a length of 3.\n",
    "Let's take another example to reinforce this idea.\n",
    "\n",
    "Using the illustrated graph below we can see that the set of coordinates has 2 axes. Axis 1 has a length (shown in colour) of 2, and axis 2 has a length of 3.\n",
    "\n",
    "<mark>FIGURE 1</mark>\n",
    "![Graph displaying axes of coordinate](./images/pointInSpace.jpg)\n",
    "\n",
    "\n",
    "One of NumPy's most powerful features is it's array class: ```ndarray``` This is not to be confused with the Python's array class ```array.array``` which has less functionality and only handles one-dimensional arrays.\n",
    "\n",
    "##### Let's use some of ndarray's functions to prove and reinforce what we learnt above.\n",
    "\n",
    "#### A Simple Example\n",
    "\n",
    "Before we use NumPy we have to import it.\n",
    "It is very common to see NumPy renamed to \"np\".\n",
    "\n"
   ]
  },
  {
   "cell_type": "code",
   "execution_count": 36,
   "metadata": {},
   "outputs": [],
   "source": [
    "import numpy as np"
   ]
  },
  {
   "cell_type": "markdown",
   "metadata": {},
   "source": [
    "From here let's create an array of values that represent distances eg. in metres"
   ]
  },
  {
   "cell_type": "code",
   "execution_count": 37,
   "metadata": {},
   "outputs": [],
   "source": [
    "mvalues = [45.26, 10.9, 26.3, 80.5, 24.1, 66.1, 19.8, 3.0, 8.8, 132.5]"
   ]
  },
  {
   "cell_type": "markdown",
   "metadata": {},
   "source": [
    "Great, now let's do some NumPy stuff on that. We're going to turn our array of values into a one-dimensional NumPy array and print it to the screen."
   ]
  },
  {
   "cell_type": "code",
   "execution_count": 38,
   "metadata": {},
   "outputs": [
    {
     "name": "stdout",
     "output_type": "stream",
     "text": [
      "[ 45.26  10.9   26.3   80.5   24.1   66.1   19.8    3.     8.8  132.5 ]\n"
     ]
    }
   ],
   "source": [
    "M = np.array(mvalues)\n",
    "print(M)"
   ]
  },
  {
   "cell_type": "markdown",
   "metadata": {},
   "source": [
    "Now let's say that we wanted to convert all of our values in metres to centimetres. This is easily achieved using a NumPy array and scalar multiplication."
   ]
  },
  {
   "cell_type": "code",
   "execution_count": 39,
   "metadata": {},
   "outputs": [
    {
     "name": "stdout",
     "output_type": "stream",
     "text": [
      "[ 4526.  1090.  2630.  8050.  2410.  6610.  1980.   300.   880. 13250.]\n"
     ]
    }
   ],
   "source": [
    "print(M*100)"
   ]
  },
  {
   "cell_type": "markdown",
   "metadata": {},
   "source": [
    "If we print out M again you can see that the values have not been changed."
   ]
  },
  {
   "cell_type": "code",
   "execution_count": 40,
   "metadata": {},
   "outputs": [
    {
     "name": "stdout",
     "output_type": "stream",
     "text": [
      "[ 45.26  10.9   26.3   80.5   24.1   66.1   19.8    3.     8.8  132.5 ]\n"
     ]
    }
   ],
   "source": [
    "print(M)"
   ]
  },
  {
   "cell_type": "markdown",
   "metadata": {},
   "source": [
    "Now if you wanted to do the same thing using standard Python, as shown below, then hopefully you can clearly see the advantage in using NumPy instead."
   ]
  },
  {
   "cell_type": "code",
   "execution_count": 41,
   "metadata": {},
   "outputs": [
    {
     "name": "stdout",
     "output_type": "stream",
     "text": [
      "[4526.0, 1090.0, 2630.0, 8050.0, 2410.0, 6609.999999999999, 1980.0, 300.0, 880.0000000000001, 13250.0]\n"
     ]
    }
   ],
   "source": [
    "mvalues = [ i*100 for i in mvalues] \n",
    "print(mvalues)"
   ]
  },
  {
   "cell_type": "markdown",
   "metadata": {},
   "source": [
    "The values for mvalues have also all been permanently changed now, whereas we didn't need to alter them when using NumPy "
   ]
  },
  {
   "cell_type": "markdown",
   "metadata": {},
   "source": [
    "Earlier I explained that NumPy provides the ndarray object. \"M\" is an instance of the class ```numpy.ndarray```, proven below:"
   ]
  },
  {
   "cell_type": "code",
   "execution_count": 42,
   "metadata": {},
   "outputs": [
    {
     "data": {
      "text/plain": [
       "numpy.ndarray"
      ]
     },
     "execution_count": 42,
     "metadata": {},
     "output_type": "execute_result"
    }
   ],
   "source": [
    "type(M)"
   ]
  },
  {
   "cell_type": "markdown",
   "metadata": {},
   "source": [
    "# The NumPy Random Package"
   ]
  },
  {
   "cell_type": "markdown",
   "metadata": {},
   "source": [
    "In order to use the random package the name of package must be specified followed by the function. \n",
    "\n",
    "eg. ```np.random.rand(3,3)``` (It's implied that NumPy has been imported)\n",
    "\n",
    "As a precursor, you will notation that looks like this **[num, num]** across this notebook\n",
    "\n",
    "This is known as interval notation. This brief explanation from Wikipedia nicely encapsulates the notations found in this notebook.\n",
    "\n",
    "    \"In mathematics, a (real) interval is a set of real numbers with the property that any number that lies between two numbers in the set is also included in the set.\"\n",
    "    \n",
    "    \"For example, (0,1) means greater than 0 and less than 1. A closed interval is an interval which includes all its limit points, and is denoted with square brackets. For example, [0,1] means greater than or equal to 0 and less than or equal to 1. A half-open interval includes only one of its endpoints, and is denoted by mixing the notations for open and closed intervals. (0,1] means greater than 0 and less than or equal to 1, while [0,1) means greater than or equal to 0 and less than 1.\"\n"
   ]
  },
  {
   "cell_type": "markdown",
   "metadata": {},
   "source": [
    "## Simple random data\n",
    "Let's go over some of the functions that NumPy provides to help us deal with simple random data. \n",
    "\n",
    "### rand\n",
    "```rand``` is used to generate random values in a given shape. The dimensions of the input should be positive and if they are not or they're empty a float will be returned. The example below creates an array of specified shape and populates it with random samples from a uniform distribution over [0, 1).\n",
    "\n",
    "Let's use that example and construct a 2D array of random values. If you wanted a 3D array or greater you would simply add an additional parameter to the function."
   ]
  },
  {
   "cell_type": "code",
   "execution_count": 237,
   "metadata": {},
   "outputs": [
    {
     "data": {
      "text/plain": [
       "array([[0.3926624 , 0.6571114 , 0.91638746],\n",
       "       [0.49278316, 0.39118869, 0.66385803],\n",
       "       [0.56017542, 0.41416327, 0.6876804 ]])"
      ]
     },
     "execution_count": 237,
     "metadata": {},
     "output_type": "execute_result"
    }
   ],
   "source": [
    "np.random.rand(3,3)"
   ]
  },
  {
   "cell_type": "markdown",
   "metadata": {},
   "source": [
    "### randn"
   ]
  },
  {
   "cell_type": "markdown",
   "metadata": {},
   "source": [
    "```randn``` Returns a sample (or samples) from the “standard normal” distribution.\n",
    "\n",
    "A standard normal distribution is a normal distribution where the average value is 0, and the variance is 1. \n",
    "\n",
    "When the function is provided a positive \"int_like or int-convertible arguments\", randn generates an array of specified shape (d0, d1, ..., dn), filled with random floats sampled from this distribution. Like ```rand```, a single float is returned if no argument is provided."
   ]
  },
  {
   "cell_type": "code",
   "execution_count": 238,
   "metadata": {},
   "outputs": [
    {
     "data": {
      "text/plain": [
       "array([[ 1.28554165,  1.88706658],\n",
       "       [ 1.24007967, -1.19765102],\n",
       "       [-0.30822111,  0.32330164]])"
      ]
     },
     "execution_count": 238,
     "metadata": {},
     "output_type": "execute_result"
    }
   ],
   "source": [
    "np.random.randn(3,2)"
   ]
  },
  {
   "cell_type": "markdown",
   "metadata": {},
   "source": [
    "Additional computations can be added for greater specificity"
   ]
  },
  {
   "cell_type": "code",
   "execution_count": 239,
   "metadata": {},
   "outputs": [
    {
     "data": {
      "text/plain": [
       "array([[10.22105041,  8.0167781 ],\n",
       "       [ 9.42433697,  7.28535126],\n",
       "       [ 9.34692905,  8.90351029]])"
      ]
     },
     "execution_count": 239,
     "metadata": {},
     "output_type": "execute_result"
    }
   ],
   "source": [
    "np.random.randn(3,2) + 8"
   ]
  },
  {
   "cell_type": "markdown",
   "metadata": {},
   "source": [
    "### randint\n",
    "\n"
   ]
  },
  {
   "cell_type": "markdown",
   "metadata": {},
   "source": [
    "```randint``` returns random integers from low (inclusive) to high (exclusive).\n",
    "\n",
    "the parameters for ```randint``` are **(low, high=None, size=None, dtype='l')**\n",
    "\n",
    "**low and high** simply refer to the lowest and highest numbers that can be drawn from the distribution,\n",
    "\n",
    "**size** refers to the output shape,\n",
    "\n",
    "**dtype** is optional but if you have a desired output type you may specifiy it here.\n",
    "\n",
    "The example below generates a 4 x 4 array of ints between 0 and 4, inclusive:"
   ]
  },
  {
   "cell_type": "code",
   "execution_count": 240,
   "metadata": {},
   "outputs": [
    {
     "data": {
      "text/plain": [
       "array([[0, 0, 3, 3],\n",
       "       [1, 2, 1, 1],\n",
       "       [0, 0, 1, 3],\n",
       "       [1, 1, 3, 2]])"
      ]
     },
     "execution_count": 240,
     "metadata": {},
     "output_type": "execute_result"
    }
   ],
   "source": [
    "np.random.randint(5, size=(4, 4))"
   ]
  },
  {
   "cell_type": "markdown",
   "metadata": {},
   "source": [
    "randint is often used for more simple operations eg. generate a random number between 1-10"
   ]
  },
  {
   "cell_type": "code",
   "execution_count": 241,
   "metadata": {},
   "outputs": [
    {
     "data": {
      "text/plain": [
       "1"
      ]
     },
     "execution_count": 241,
     "metadata": {},
     "output_type": "execute_result"
    }
   ],
   "source": [
    "np.random.randint(1,10)"
   ]
  },
  {
   "cell_type": "markdown",
   "metadata": {},
   "source": [
    "### random_integers"
   ]
  },
  {
   "cell_type": "markdown",
   "metadata": {},
   "source": [
    "`random_integers` Returns random integers of type np.int from the “discrete uniform” distribution in the closed interval [low, high].\n",
    "\n",
    "`random_integers` is similar to ```randint```, only for the closed interval [low, high]. \n",
    "\n",
    "0 is the lowest value if high is omitted when using `random_integers`, whereas it is 1 in the case that high is omitted when using `randint`.\n",
    "\n",
    "This function however has been deprecated so it is advised you use ```randint``` instead.\n",
    "\n",
    "ie. `np.random.random_integers(10) --> randint(1, 10 + 1)`\n",
    "\n",
    "### random_sample"
   ]
  },
  {
   "cell_type": "markdown",
   "metadata": {},
   "source": [
    "`random_sample` returns random floats in the half-open interval [0.0, 1.0). \n",
    "The inputs may be an int or a tuple of ints denoting the shape of the array.\n",
    "\n",
    "This example shows how to draw a random sample from 0-5. "
   ]
  },
  {
   "cell_type": "code",
   "execution_count": 485,
   "metadata": {},
   "outputs": [
    {
     "data": {
      "text/plain": [
       "array([[2.50918708, 4.03157391, 1.2153907 , ..., 1.99836542, 1.9839975 ,\n",
       "        0.49176885],\n",
       "       [1.31967908, 2.09500896, 4.98060274, ..., 4.01892373, 4.05673531,\n",
       "        4.8494215 ],\n",
       "       [2.72440295, 2.43365374, 3.75589641, ..., 4.22900274, 1.58006611,\n",
       "        0.27043116],\n",
       "       ...,\n",
       "       [1.26683018, 3.30599865, 3.55673954, ..., 3.58444845, 1.42395006,\n",
       "        2.46381695],\n",
       "       [1.16373764, 4.90001777, 2.96230738, ..., 2.8018539 , 4.24512534,\n",
       "        1.41617824],\n",
       "       [0.31219404, 3.92987745, 1.65109804, ..., 0.28538925, 0.82896731,\n",
       "        1.25247519]])"
      ]
     },
     "execution_count": 485,
     "metadata": {},
     "output_type": "execute_result"
    }
   ],
   "source": [
    "x = 5 * np.random.random_sample((200, 200)) + 0\n",
    "x"
   ]
  },
  {
   "cell_type": "markdown",
   "metadata": {},
   "source": [
    "Below is a plot of the interval above which shows the continuous uniform distribution produced by `random_sample`, in the form of a histogram"
   ]
  },
  {
   "cell_type": "code",
   "execution_count": 486,
   "metadata": {},
   "outputs": [
    {
     "data": {
      "image/png": "[encoded data removed]",
      "text/plain": [
       "<Figure size 432x288 with 1 Axes>"
      ]
     },
     "metadata": {},
     "output_type": "display_data"
    }
   ],
   "source": [
    "import matplotlib.pyplot as plt\n",
    "\n",
    "num_bins = [0,1,2,3,4,5]\n",
    "n, bins, patches = plt.hist(x, num_bins, facecolor = 'green', alpha = 0.8)\n",
    "plt.show()"
   ]
  },
  {
   "cell_type": "markdown",
   "metadata": {},
   "source": [
    "## random, ranf and sample"
   ]
  },
  {
   "cell_type": "markdown",
   "metadata": {},
   "source": [
    "An interesting point to note is the homogeniety between the `random_sample`, `random`, `ranf` and `sample` functions. As noted in the official NumPy documentation, all of these functions,\n",
    "\n",
    "    \"Return random floats in the half-open interval [0.0, 1.0).\"\n",
    "\n",
    "To prove that the functions are the same and can be used interchangeably we can use the `is` keyword to compare object identity ie. \"Do I have two names for the same object?\""
   ]
  },
  {
   "cell_type": "code",
   "execution_count": 489,
   "metadata": {},
   "outputs": [
    {
     "data": {
      "text/plain": [
       "True"
      ]
     },
     "execution_count": 489,
     "metadata": {},
     "output_type": "execute_result"
    }
   ],
   "source": [
    "np.random.random_sample is np.random.random"
   ]
  },
  {
   "cell_type": "code",
   "execution_count": 490,
   "metadata": {},
   "outputs": [
    {
     "data": {
      "text/plain": [
       "True"
      ]
     },
     "execution_count": 490,
     "metadata": {},
     "output_type": "execute_result"
    }
   ],
   "source": [
    "np.random.random_sample is np.random.ranf"
   ]
  },
  {
   "cell_type": "code",
   "execution_count": 491,
   "metadata": {},
   "outputs": [
    {
     "data": {
      "text/plain": [
       "True"
      ]
     },
     "execution_count": 491,
     "metadata": {},
     "output_type": "execute_result"
    }
   ],
   "source": [
    "np.random.random_sample is np.random.sample"
   ]
  },
  {
   "cell_type": "markdown",
   "metadata": {},
   "source": [
    "## choice\n",
    "\n",
    "`choice` generates a random sample from a given 1-D array. If we input an ndarray then a random number will be selected from the elements provided. This may be useful for situations where you have a large pool of numbers to choose from and need a random selection."
   ]
  },
  {
   "cell_type": "code",
   "execution_count": 505,
   "metadata": {},
   "outputs": [
    {
     "data": {
      "text/plain": [
       "array([2, 6, 4, 4, 6, 1, 1, 3])"
      ]
     },
     "execution_count": 505,
     "metadata": {},
     "output_type": "execute_result"
    }
   ],
   "source": [
    "np.random.choice(7, 8)"
   ]
  },
  {
   "cell_type": "code",
   "execution_count": null,
   "metadata": {},
   "outputs": [],
   "source": []
  },
  {
   "cell_type": "code",
   "execution_count": null,
   "metadata": {},
   "outputs": [],
   "source": []
  }
 ],
 "metadata": {
  "kernelspec": {
   "display_name": "Python 3",
   "language": "python",
   "name": "python3"
  },
  "language_info": {
   "codemirror_mode": {
    "name": "ipython",
    "version": 3
   },
   "file_extension": ".py",
   "mimetype": "text/x-python",
   "name": "python",
   "nbconvert_exporter": "python",
   "pygments_lexer": "ipython3",
   "version": "3.6.5"
  }
 },
 "nbformat": 4,
 "nbformat_minor": 2
}
