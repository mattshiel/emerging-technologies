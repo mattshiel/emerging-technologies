{
 "cells": [
  {
   "cell_type": "markdown",
   "metadata": {},
   "source": [
    "This notebook is broken into two sections, firstly an introduction to the NumPy package and secondly a breakdown of the NumPy random package.\n",
    "\n",
    "\n",
    "# The NumPy Package\n",
    "\n",
    "## What is it?\n",
    "\n",
    "NumPy is a Python package used for scientific computing. Often cited as a fundamental package in this area, this is for good reason. It provides a high performance multidimensional array object, and a variety of routines for operations on arrays. NumPy is not part of a basic Python installation. It has to be installed after the Python installation.\n",
    "\n",
    "The implemented multi-dimensional arrays are very efficient as NumPy was mostly written in C; the precompiled mathematical and numerical functions and functionalities of NumPy guarantee excellent execution speed.\n",
    "\n",
    "At its core NumPy provides the ndarray (multidimensional/n-dimensional array) object. This is a grid of values of the same type indexed by a tuple of non-negative integers. This is explained in further detail in the basics section below.\n",
    "\n",
    "## The Basics\n",
    "\n",
    "In Numpy, axes are called dimensions, lets take a hypothetical set of coordinates and see what exactly this means.\n",
    "\n",
    "The coordinates of a point in 3D space [1, 4, 5] has one axis that contains 3 elements ie. has a length of 3.\n",
    "Let's take another example to reinforce this idea.\n",
    "\n",
    "Using the illustrated graph below we can see that the set of coordinates has 2 axes. Axis 1 has a length (shown in colour) of 2, and axis 2 has a length of 3.\n",
    "\n",
    "<mark>FIGURE 1</mark>\n",
    "![Graph displaying axes of coordinate](./images/pointInSpace.jpg)\n",
    "\n",
    "\n",
    "One of NumPy's most powerful features is it's array class: ```ndarray``` This is not to be confused with the Python's array class ```array.array``` which has less functionality and only handles one-dimensional arrays.\n",
    "\n",
    "##### Let's use some of ndarray's functions to prove and reinforce what we learnt above.\n",
    "\n",
    "#### A Simple Example\n",
    "\n",
    "Before we use NumPy we have to import it.\n",
    "It is very common to see NumPy renamed to \"np\".\n",
    "\n"
   ]
  },
  {
   "cell_type": "code",
   "execution_count": 1,
   "metadata": {},
   "outputs": [],
   "source": [
    "import numpy as np"
   ]
  },
  {
   "cell_type": "markdown",
   "metadata": {},
   "source": [
    "From here let's create an array of values that represent distances eg. in metres"
   ]
  },
  {
   "cell_type": "code",
   "execution_count": 2,
   "metadata": {},
   "outputs": [],
   "source": [
    "mvalues = [45.26, 10.9, 26.3, 80.5, 24.1, 66.1, 19.8, 3.0, 8.8, 132.5]"
   ]
  },
  {
   "cell_type": "markdown",
   "metadata": {},
   "source": [
    "Great, now let's do some NumPy stuff on that. We're going to turn our array of values into a one-dimensional NumPy array and print it to the screen."
   ]
  },
  {
   "cell_type": "code",
   "execution_count": 3,
   "metadata": {},
   "outputs": [
    {
     "name": "stdout",
     "output_type": "stream",
     "text": [
      "[ 45.26  10.9   26.3   80.5   24.1   66.1   19.8    3.     8.8  132.5 ]\n"
     ]
    }
   ],
   "source": [
    "M = np.array(mvalues)\n",
    "print(M)"
   ]
  },
  {
   "cell_type": "markdown",
   "metadata": {},
   "source": [
    "Now let's say that we wanted to convert all of our values in metres to centimetres. This is easily achieved using a NumPy array and scalar multiplication."
   ]
  },
  {
   "cell_type": "code",
   "execution_count": 4,
   "metadata": {},
   "outputs": [
    {
     "name": "stdout",
     "output_type": "stream",
     "text": [
      "[ 4526.  1090.  2630.  8050.  2410.  6610.  1980.   300.   880. 13250.]\n"
     ]
    }
   ],
   "source": [
    "print(M*100)"
   ]
  },
  {
   "cell_type": "markdown",
   "metadata": {},
   "source": [
    "If we print out M again you can see that the values have not been changed."
   ]
  },
  {
   "cell_type": "code",
   "execution_count": 5,
   "metadata": {},
   "outputs": [
    {
     "name": "stdout",
     "output_type": "stream",
     "text": [
      "[ 45.26  10.9   26.3   80.5   24.1   66.1   19.8    3.     8.8  132.5 ]\n"
     ]
    }
   ],
   "source": [
    "print(M)"
   ]
  },
  {
   "cell_type": "markdown",
   "metadata": {},
   "source": [
    "Now if you wanted to do the same thing using standard Python, as shown below, then hopefully you can clearly see the advantage in using NumPy instead."
   ]
  },
  {
   "cell_type": "code",
   "execution_count": 6,
   "metadata": {},
   "outputs": [
    {
     "name": "stdout",
     "output_type": "stream",
     "text": [
      "[4526.0, 1090.0, 2630.0, 8050.0, 2410.0, 6609.999999999999, 1980.0, 300.0, 880.0000000000001, 13250.0]\n"
     ]
    }
   ],
   "source": [
    "mvalues = [ i*100 for i in mvalues] \n",
    "print(mvalues)"
   ]
  },
  {
   "cell_type": "markdown",
   "metadata": {},
   "source": [
    "The values for mvalues have also all been permanently changed now, whereas we didn't need to alter them when using NumPy "
   ]
  },
  {
   "cell_type": "markdown",
   "metadata": {},
   "source": [
    "Earlier I explained that NumPy provides the ndarray object. \"M\" is an instance of the class ```numpy.ndarray```, proven below:"
   ]
  },
  {
   "cell_type": "code",
   "execution_count": 7,
   "metadata": {},
   "outputs": [
    {
     "data": {
      "text/plain": [
       "numpy.ndarray"
      ]
     },
     "execution_count": 7,
     "metadata": {},
     "output_type": "execute_result"
    }
   ],
   "source": [
    "type(M)"
   ]
  },
  {
   "cell_type": "markdown",
   "metadata": {},
   "source": [
    "# The NumPy Random Package"
   ]
  },
  {
   "cell_type": "markdown",
   "metadata": {},
   "source": [
    "The NumPy random package is used for sampling and generating random data. Across this section I've split the descriptions and examples into 4 sections:\n",
    "\n",
    "    Simple Random Data\n",
    "    Permutations\n",
    "    Distributions\n",
    "    Random Generator\n",
    "\n",
    "In order to use the random package the name of package must be specified, followed by the function. \n",
    "eg. ```np.random.rand(3,3)``` (It's implied that NumPy has been imported as np)\n",
    "\n",
    "As a precursor, you will notation that looks like this **[num, num]** across this notebook.\n",
    "This is known as interval notation. This brief explanation from Wikipedia nicely describes the notations found in this notebook.\n",
    "\n",
    "    \"In mathematics, a (real) interval is a set of real numbers with the property that any number that lies \n",
    "    between two numbers in the set is also included in the set.\"\n",
    "\n",
    "    \"For example, (0,1) means greater than 0 and less than 1. A closed interval is an interval which includes all \n",
    "    its limit points, and is denoted with square brackets. For example, [0,1] means greater than or equal to 0 and \n",
    "    less than or equal to 1. A half-open interval includes only one of its endpoints, and is denoted by mixing the \n",
    "    notations for open and closed intervals. (0,1] means greater than 0 and less than or equal to 1, while [0,1) \n",
    "    means greater than or equal to 0 and less than 1.\"\n"
   ]
  },
  {
   "cell_type": "markdown",
   "metadata": {},
   "source": [
    "## Simple Random Data\n",
    "Let's go over some of the functions that NumPy provides to help us deal with simple random data. \n",
    "\n",
    "### rand\n",
    "`numpy.random.rand` \n",
    "\n",
    "Used to generate random values in a given shape. The dimensions of the input should be positive and if they are not or they're empty a float will be returned. The example below creates an array of specified shape and populates it with random samples from a uniform distribution over [0, 1).\n",
    "\n",
    "Let's use that example and construct a 2D array of random values. If you wanted a 3D array or greater you would simply add an additional parameter to the function."
   ]
  },
  {
   "cell_type": "code",
   "execution_count": 8,
   "metadata": {},
   "outputs": [
    {
     "data": {
      "text/plain": [
       "array([[0.66352217, 0.9758015 , 0.22109005],\n",
       "       [0.29701463, 0.24333979, 0.78926366],\n",
       "       [0.24073249, 0.3123716 , 0.19450358]])"
      ]
     },
     "execution_count": 8,
     "metadata": {},
     "output_type": "execute_result"
    }
   ],
   "source": [
    "import numpy as np\n",
    "\n",
    "np.random.rand(3,3)"
   ]
  },
  {
   "cell_type": "markdown",
   "metadata": {},
   "source": [
    "### randn"
   ]
  },
  {
   "cell_type": "markdown",
   "metadata": {},
   "source": [
    "`numpy.random.randn` \n",
    "\n",
    "Returns a sample (or samples) from the “standard normal” distribution.\n",
    "\n",
    "A standard normal distribution is a normal distribution where the average value is 0, and the variance is 1. \n",
    "\n",
    "When the function is provided a positive \"int_like or int-convertible arguments\", randn generates an array of specified shape (d0, d1, ..., dn), filled with random floats sampled from this distribution. Like ```rand```, a single float is returned if no argument is provided."
   ]
  },
  {
   "cell_type": "code",
   "execution_count": 9,
   "metadata": {},
   "outputs": [
    {
     "data": {
      "text/plain": [
       "array([[ 0.94873904, -0.28495984],\n",
       "       [-0.79838208,  0.36137199],\n",
       "       [-0.12724116, -0.65264098]])"
      ]
     },
     "execution_count": 9,
     "metadata": {},
     "output_type": "execute_result"
    }
   ],
   "source": [
    "import numpy as np\n",
    "\n",
    "np.random.randn(3,2)"
   ]
  },
  {
   "cell_type": "markdown",
   "metadata": {},
   "source": [
    "Additional computations can be added for greater specificity"
   ]
  },
  {
   "cell_type": "code",
   "execution_count": 10,
   "metadata": {},
   "outputs": [
    {
     "data": {
      "text/plain": [
       "array([[ 8.56097755, 10.30512008],\n",
       "       [ 8.64314962,  8.48193632],\n",
       "       [ 6.7232981 , 10.02178619]])"
      ]
     },
     "execution_count": 10,
     "metadata": {},
     "output_type": "execute_result"
    }
   ],
   "source": [
    "np.random.randn(3,2) + 8"
   ]
  },
  {
   "cell_type": "markdown",
   "metadata": {},
   "source": [
    "### randint\n",
    "\n"
   ]
  },
  {
   "cell_type": "markdown",
   "metadata": {},
   "source": [
    "`numpy.random.randint` \n",
    "\n",
    "Returns random integers from low (inclusive) to high (exclusive).\n",
    "\n",
    "the parameters for ```randint``` are **(low, high=None, size=None, dtype='l')**\n",
    "\n",
    "* **low and high** simply refer to the lowest and highest numbers that can be drawn from the distribution,\n",
    "\n",
    "* **size** refers to the output shape,\n",
    "\n",
    "* **dtype** is optional but if you have a desired output type you may specifiy it here.\n",
    "\n",
    "The example below generates a 4 x 4 array of ints between 0 and 4, inclusive:"
   ]
  },
  {
   "cell_type": "code",
   "execution_count": 11,
   "metadata": {},
   "outputs": [
    {
     "data": {
      "text/plain": [
       "array([[4, 0, 2, 3],\n",
       "       [3, 0, 4, 4],\n",
       "       [1, 3, 2, 0],\n",
       "       [0, 4, 0, 4]])"
      ]
     },
     "execution_count": 11,
     "metadata": {},
     "output_type": "execute_result"
    }
   ],
   "source": [
    "import numpy as np\n",
    "\n",
    "np.random.randint(5, size=(4, 4))"
   ]
  },
  {
   "cell_type": "markdown",
   "metadata": {},
   "source": [
    "`randint` is often used for more simple operations eg. generate a random number between 1-10"
   ]
  },
  {
   "cell_type": "code",
   "execution_count": 12,
   "metadata": {},
   "outputs": [
    {
     "data": {
      "text/plain": [
       "2"
      ]
     },
     "execution_count": 12,
     "metadata": {},
     "output_type": "execute_result"
    }
   ],
   "source": [
    "np.random.randint(1,10)"
   ]
  },
  {
   "cell_type": "markdown",
   "metadata": {},
   "source": [
    "### random_integers"
   ]
  },
  {
   "cell_type": "markdown",
   "metadata": {},
   "source": [
    "`numpy.random.random_integers` \n",
    "\n",
    "Returns random integers of type np.int from the “discrete uniform” distribution in the closed interval [low, high].\n",
    "\n",
    "`random_integers` is similar to ```randint```, only for the closed interval [low, high]. \n",
    "\n",
    "0 is the lowest value if high is omitted when using `random_integers`, whereas it is 1 in the case that high is omitted when using `randint`. This function however has been deprecated so it is advised you use ```randint``` instead ie. `np.random.random_integers(10) --> randint(1, 10 + 1)`\n",
    "\n",
    "### random_sample"
   ]
  },
  {
   "cell_type": "markdown",
   "metadata": {},
   "source": [
    "`numpy.random.random_sample` \n",
    "\n",
    "Returns random floats in the half-open interval [0.0, 1.0). \n",
    "The inputs may be an int or a tuple of ints denoting the shape of the array.\n",
    "\n",
    "This example shows how to draw a random sample from 0-5. "
   ]
  },
  {
   "cell_type": "code",
   "execution_count": 13,
   "metadata": {},
   "outputs": [
    {
     "data": {
      "text/plain": [
       "array([[0.82803425, 0.92125911, 4.16371725, ..., 4.89237322, 4.34914298,\n",
       "        2.50215542],\n",
       "       [1.39224938, 1.75191588, 2.96133421, ..., 4.47696758, 1.8658816 ,\n",
       "        2.0900084 ],\n",
       "       [4.40235536, 1.56794773, 1.13982656, ..., 3.46521807, 0.75325756,\n",
       "        3.4543841 ],\n",
       "       ...,\n",
       "       [3.06017307, 0.10182198, 0.24300141, ..., 2.91100457, 1.59643946,\n",
       "        4.49623999],\n",
       "       [0.62947172, 4.33946843, 1.90914225, ..., 0.86429567, 1.00952097,\n",
       "        4.49074782],\n",
       "       [3.47475276, 4.66376837, 2.53524337, ..., 2.70826858, 0.47558885,\n",
       "        3.93589711]])"
      ]
     },
     "execution_count": 13,
     "metadata": {},
     "output_type": "execute_result"
    }
   ],
   "source": [
    "import numpy as np\n",
    "\n",
    "x = 5 * np.random.random_sample((250, 250)) + 0\n",
    "x"
   ]
  },
  {
   "cell_type": "markdown",
   "metadata": {},
   "source": [
    "Below is a plot of the interval above which shows the continuous uniform distribution produced by `random_sample`, in the form of a histogram"
   ]
  },
  {
   "cell_type": "code",
   "execution_count": 30,
   "metadata": {},
   "outputs": [
    {
     "data": {
      "image/png": "[encoded data removed]",
      "text/plain": [
       "<Figure size 432x288 with 1 Axes>"
      ]
     },
     "metadata": {},
     "output_type": "display_data"
    }
   ],
   "source": [
    "# Import matplot in order to generate a histogram\n",
    "import matplotlib.pyplot as plt\n",
    "\n",
    "# Define the amount of bins (series of intervals) for the histogram\n",
    "num_bins = [0,1,2,3,4,5]\n",
    "\n",
    "# Plot and display the histogram\n",
    "n, bins, patches = plt.hist(x, num_bins, facecolor = 'green', alpha = 0.8)\n",
    "plt.show()"
   ]
  },
  {
   "cell_type": "markdown",
   "metadata": {},
   "source": [
    "### random, ranf and sample"
   ]
  },
  {
   "cell_type": "markdown",
   "metadata": {},
   "source": [
    "An interesting point to note is the homogeniety between the `random_sample`, `random`, `ranf` and `sample` functions. As noted in the official NumPy documentation, all of these functions,\n",
    "\n",
    "    \"Return random floats in the half-open interval [0.0, 1.0).\"\n",
    "\n",
    "To prove that the functions are the same and can be used interchangeably we can use the `is` keyword to compare object identity ie. \"Do I have two names for the same object?\""
   ]
  },
  {
   "cell_type": "code",
   "execution_count": 15,
   "metadata": {},
   "outputs": [
    {
     "data": {
      "text/plain": [
       "True"
      ]
     },
     "execution_count": 15,
     "metadata": {},
     "output_type": "execute_result"
    }
   ],
   "source": [
    "np.random.random_sample is np.random.random"
   ]
  },
  {
   "cell_type": "code",
   "execution_count": 16,
   "metadata": {},
   "outputs": [
    {
     "data": {
      "text/plain": [
       "True"
      ]
     },
     "execution_count": 16,
     "metadata": {},
     "output_type": "execute_result"
    }
   ],
   "source": [
    "np.random.random_sample is np.random.ranf"
   ]
  },
  {
   "cell_type": "code",
   "execution_count": 17,
   "metadata": {},
   "outputs": [
    {
     "data": {
      "text/plain": [
       "True"
      ]
     },
     "execution_count": 17,
     "metadata": {},
     "output_type": "execute_result"
    }
   ],
   "source": [
    "np.random.random_sample is np.random.sample"
   ]
  },
  {
   "cell_type": "markdown",
   "metadata": {},
   "source": [
    "### choice\n",
    "\n",
    "`numpy.random.choice` \n",
    "\n",
    "Generates a random sample from a given 1-D array. If you use a ndarray as the input then a random number will be selected from the elements provided. This may be useful for situations where you have a large pool of numbers to choose from and need a random selection eg."
   ]
  },
  {
   "cell_type": "code",
   "execution_count": 18,
   "metadata": {},
   "outputs": [
    {
     "data": {
      "text/plain": [
       "2"
      ]
     },
     "execution_count": 18,
     "metadata": {},
     "output_type": "execute_result"
    }
   ],
   "source": [
    "import numpy as np\n",
    "\n",
    "j = [2,4,9,125,3,19,8,62,1004,203]\n",
    "\n",
    "# Convert array to a NumPy array\n",
    "o = np.array(j)\n",
    "\n",
    "# Output a random choice\n",
    "np.random.choice(o)"
   ]
  },
  {
   "cell_type": "markdown",
   "metadata": {},
   "source": [
    "The sample assumes a uniform distribution over all entries, however, if we wanted to change this and account for different probabilities we can use a parameter to set the probability for each individual entry. Remember that probability must add up to 1."
   ]
  },
  {
   "cell_type": "code",
   "execution_count": 19,
   "metadata": {},
   "outputs": [
    {
     "data": {
      "text/plain": [
       "1004"
      ]
     },
     "execution_count": 19,
     "metadata": {},
     "output_type": "execute_result"
    }
   ],
   "source": [
    "import numpy as np\n",
    "\n",
    "# Apply probabilities for each individual entry \n",
    "np.random.choice(o, p = [0.1, 0.025, 0.025, 0.025, 0.025, 0.1, 0.1, 0.3, 0.2, 0.1])"
   ]
  },
  {
   "cell_type": "markdown",
   "metadata": {},
   "source": [
    "### bytes"
   ]
  },
  {
   "cell_type": "markdown",
   "metadata": {},
   "source": [
    "`numpy.random.bytes` \n",
    "\n",
    "This a useful function that simply return a string of bytes of given length eg."
   ]
  },
  {
   "cell_type": "code",
   "execution_count": 20,
   "metadata": {},
   "outputs": [
    {
     "data": {
      "text/plain": [
       "b'\\x82J\\xd0\\x98\\x97\\x88d\\xab\\x88\\xfd\\xf0\\xcb\\xf6\\xece'"
      ]
     },
     "execution_count": 20,
     "metadata": {},
     "output_type": "execute_result"
    }
   ],
   "source": [
    "import numpy as np\n",
    "\n",
    "# Output a string of 15 random bytes \n",
    "np.random.bytes(15)"
   ]
  },
  {
   "cell_type": "markdown",
   "metadata": {},
   "source": [
    "## Permutations"
   ]
  },
  {
   "cell_type": "markdown",
   "metadata": {},
   "source": [
    "This definition from Wikipedia explains nicely what a permutation is:\n",
    "    \n",
    "    In mathematics, the notion of permutation relates to the act of arranging all the members of a set into some \n",
    "    sequence or order, or if the set is already ordered, rearranging its elements, a process called permuting.\n",
    "    \n",
    " The number of permutations on a set of n elements is given by n! (factorial)\n",
    " \n",
    " For example:\n",
    " \n",
    "     3! = 3x2x1 = 6\n",
    "     the six possible rearrangements would be (1x2x3), (2x3x1), (3x1x2), (1x3x2), (2x1x3), (3x2x1)\n",
    "     \n",
    "\n",
    "\n",
    "### shuffle \n",
    "`numpy.random.shuffle` \n",
    "\n",
    "`shuffle` as the name implies, shuffles an array or list. This function only shuffles the array along the first axis of a multi-dimensional array. The order of sub-arrays is changed but their contents remains the same.\n",
    "\n",
    "Shown below is an example of creating a 1D array, reshaping it and shuffling the contents."
   ]
  },
  {
   "cell_type": "markdown",
   "metadata": {},
   "source": []
  },
  {
   "cell_type": "code",
   "execution_count": 21,
   "metadata": {},
   "outputs": [
    {
     "data": {
      "text/plain": [
       "array([[ 0,  1,  2,  3],\n",
       "       [ 4,  5,  6,  7],\n",
       "       [ 8,  9, 10, 11],\n",
       "       [12, 13, 14, 15]])"
      ]
     },
     "execution_count": 21,
     "metadata": {},
     "output_type": "execute_result"
    }
   ],
   "source": [
    "import numpy as np\n",
    "\n",
    "# Create an array of values between 0-15, reshape to 4x4 array\n",
    "arr = np.arange(16).reshape((4,4))\n",
    "\n",
    "# Shuffle the array\n",
    "np.random.shuffle(arr)\n",
    "arr\n"
   ]
  },
  {
   "cell_type": "markdown",
   "metadata": {},
   "source": [
    "But what if I want to shuffle a 2D array? If this is the case then you can use the `ravel` function to flatten a multi-dimensional array like so:"
   ]
  },
  {
   "cell_type": "code",
   "execution_count": 22,
   "metadata": {},
   "outputs": [
    {
     "data": {
      "text/plain": [
       "array([[ 20,  30,  40],\n",
       "       [ 50,  60,  70],\n",
       "       [ 80,  90, 100]])"
      ]
     },
     "execution_count": 22,
     "metadata": {},
     "output_type": "execute_result"
    }
   ],
   "source": [
    "# Create the NumPy array\n",
    "e = np.array([[20,30,40],[50,60,70],[80,90,100]])\n",
    "e"
   ]
  },
  {
   "cell_type": "code",
   "execution_count": 23,
   "metadata": {},
   "outputs": [
    {
     "data": {
      "text/plain": [
       "array([[ 90,  70,  50],\n",
       "       [ 30, 100,  20],\n",
       "       [ 60,  80,  40]])"
      ]
     },
     "execution_count": 23,
     "metadata": {},
     "output_type": "execute_result"
    }
   ],
   "source": [
    "# Flatten the array, shuffle and output result\n",
    "np.random.shuffle(e.ravel())\n",
    "e"
   ]
  },
  {
   "cell_type": "markdown",
   "metadata": {},
   "source": [
    "### permutation\n",
    "`numpy.random.permutation` \n",
    "\n",
    "Randomly permutes a sequence or returns a permuted range of values. In the case the the value is an array, `permutation` will copy and shuffle the elements randomly. If x is an integer, np.arange(x) is called and randomly permuted."
   ]
  },
  {
   "cell_type": "code",
   "execution_count": 24,
   "metadata": {},
   "outputs": [
    {
     "data": {
      "text/plain": [
       "array([2, 3, 0, 1, 4, 5])"
      ]
     },
     "execution_count": 24,
     "metadata": {},
     "output_type": "execute_result"
    }
   ],
   "source": [
    "import numpy as np\n",
    "\n",
    "# Return a random permutation from an array of values in the range of 0-5 \n",
    "# (np.arange uses the half-open interval of [0,1))\n",
    "np.random.permutation(6)"
   ]
  },
  {
   "cell_type": "code",
   "execution_count": 25,
   "metadata": {},
   "outputs": [
    {
     "data": {
      "text/plain": [
       "array([12,  1,  4, 15,  9])"
      ]
     },
     "execution_count": 25,
     "metadata": {},
     "output_type": "execute_result"
    }
   ],
   "source": [
    "# Return a shuffled copy of the permutation of the array\n",
    "np.random.permutation([1, 4, 9, 12, 15])"
   ]
  },
  {
   "cell_type": "code",
   "execution_count": 26,
   "metadata": {},
   "outputs": [
    {
     "data": {
      "text/plain": [
       "array([[2, 3],\n",
       "       [0, 1]])"
      ]
     },
     "execution_count": 26,
     "metadata": {},
     "output_type": "execute_result"
    }
   ],
   "source": [
    "# Permute \n",
    "arr = np.arange(4).reshape((2, 2))\n",
    "np.random.permutation(arr)"
   ]
  },
  {
   "cell_type": "code",
   "execution_count": null,
   "metadata": {},
   "outputs": [],
   "source": []
  },
  {
   "cell_type": "markdown",
   "metadata": {},
   "source": [
    "## Distributions\n",
    "\n",
    "The distribution of a statistical data set (or a population) is a listing or function showing all the possible values (or intervals) of the data and how often they occur. When a distribution of categorical data is organized, you see the number or percentage of individuals in each group. When a distribution of numerical data is organized, they’re often ordered from smallest to largest, broken into reasonably sized groups (if appropriate), and then put into graphs and charts to examine the shape, center, and amount of variability in the data.\n",
    "\n",
    "The world of statistics includes dozens of different distributions for categorical and numerical data; the most common ones have their own names. One of the most well-known distributions is called the normal distribution, also known as the bell-shaped curve. The normal distribution is based on numerical data that is continuous; its possible values lie on the entire real number line. Its overall shape, when the data are organized in graph form, is a symmetric bell-shape. In other words, most (around 68%) of the data are centered around the mean (giving you the middle part of the bell), and as you move farther out on either side of the mean, you find fewer and fewer values (representing the downward sloping sides on either side of the bell).\n",
    "\n",
    "Due to symmetry, the mean and the median lie at the same point, directly in the center of the normal distribution. The standard deviation is measured by the distance from the mean to the inflection point (where the curvature of the bell changes from concave up to concave down). \n",
    "\n",
    "### Normal Distribution\n",
    "\n",
    "`np.random.normal`\n",
    "\n",
    "The probability density function of the normal distribution, is often called the bell curve because of its characteristic shape. \n",
    "\n",
    "What this example does is it creates the data for a normal distribution plot centered around a mean of 100, showing 3 standard deviations of the data, and creates 30,000 random data points that are of normal distribution. Remember this is the normal() function, which means that the data will be normalized. 68% of the data values will generated will be (or very close to) ±1 standard deviations of the mean. 95% of the data values generated will be within ±2 standard deviations of the mean. 99.7% of the data values generated will be within ±3 standard deviations of the mean. "
   ]
  },
  {
   "cell_type": "code",
   "execution_count": 62,
   "metadata": {},
   "outputs": [
    {
     "data": {
      "image/png": "[encoded data removed]",
      "text/plain": [
       "<Figure size 432x288 with 1 Axes>"
      ]
     },
     "metadata": {},
     "output_type": "display_data"
    }
   ],
   "source": [
    "# Import required packages\n",
    "import matplotlib.pyplot as plt\n",
    "import numpy as np\n",
    "\n",
    "# Set the mean and standard deviation\n",
    "mu, sigma = 100, 3\n",
    "\n",
    "# \n",
    "s = np.random.normal(mu, sigma, 30000)\n",
    "\n",
    "# \n",
    "count, bins, ignored = plt.hist(s, 25, density=True, color='blue')\n",
    "\n",
    "# Plot a line that shows the probability density function for the normal distribution\n",
    "plt.plot(bins, 1/(sigma * np.sqrt(2 * np.pi)) *\n",
    "               np.exp( - (bins - mu)**2 / (2 * sigma**2) ),\n",
    "         linewidth=2, color='r')\n",
    "\n",
    "plt.show()"
   ]
  },
  {
   "cell_type": "markdown",
   "metadata": {},
   "source": [
    "## The Binomial Distribution\n",
    "\n",
    "`np.random.binomial`\n",
    "\n",
    "It can be used to obtain the number of successes from N Bernoulli trials.\n",
    "\n",
    "    Samples are drawn from a binomial distribution with specified parameters, n trials and p probability of \n",
    "    success where n an integer >= 0 and p is in the interval [0,1]. (n may be input as a float, but it is \n",
    "    truncated to an integer in use)\n",
    "    \n",
    "Here we're going to use Seaborn, a Python data visualization library based on matplotlib, to graph the distribution."
   ]
  },
  {
   "cell_type": "code",
   "execution_count": 57,
   "metadata": {},
   "outputs": [
    {
     "name": "stderr",
     "output_type": "stream",
     "text": [
      "/anaconda3/lib/python3.6/site-packages/matplotlib/axes/_axes.py:6462: UserWarning: The 'normed' kwarg is deprecated, and has been replaced by the 'density' kwarg.\n",
      "  warnings.warn(\"The 'normed' kwarg is deprecated, and has been \"\n"
     ]
    },
    {
     "data": {
      "text/plain": [
       "[Text(0,0.5,'Frequency'), Text(0.5,0,'Binomial')]"
      ]
     },
     "execution_count": 57,
     "metadata": {},
     "output_type": "execute_result"
    },
    {
     "data": {
      "image/png": "[encoded data removed]",
      "text/plain": [
       "<Figure size 432x288 with 1 Axes>"
      ]
     },
     "metadata": {},
     "output_type": "display_data"
    }
   ],
   "source": [
    "import numpy as np\n",
    "import matplotlib.pyplot as plt\n",
    "# Import the Seaborn package for graphing\n",
    "import seaborn as sb\n",
    "\n",
    "# Number of trials, probability of each trial\n",
    "n, p = 100, .1\n",
    "\n",
    "# Generate binomial distribution\n",
    "s = np.random.binomial(n, p, 30000)\n",
    "\n",
    "# Plot the graph with Seaborn\n",
    "ax = sb.distplot(s,\n",
    "                  kde=False,\n",
    "                  color='blue',\n",
    "                  hist_kws={\"linewidth\": 30,'alpha':0.8}) \n",
    "ax.set(xlabel='Binomial', ylabel='Frequency')\n",
    "\n",
    "\n",
    "\n",
    "p = 4/15 = 27%. 0.27*15 = 4,"
   ]
  },
  {
   "cell_type": "markdown",
   "metadata": {},
   "source": [
    "What I've shown here is that a binomial distribution is very different from a normal distribution, and yet if the sample size is large enough, the shapes will be quite similar as can be seen here. I used 30,000 as the size of both distributions and both produced a bell shaped curve.\n",
    "\n",
    "The main difference between the two is that the binomial distribution is discrete, whereas the normal distribution is continuous. Continuous simply means that (in theory) it's possible to find a data value between any two data values. Things like the heights of people vary continuously, there are lots of random influences, generally their overall distribution is close to normal.\n",
    "\n",
    "A discrete probability distribution on the other hand is one where the possible outcomes are distinct and non-overlapping. eg. rolling a dice, you can roll a 5 or a 6 but not 5.5. As a result the graphed distribution looks \"stepped\".\n"
   ]
  },
  {
   "cell_type": "markdown",
   "metadata": {},
   "source": [
    "## Pareto Distribution\n",
    "\n",
    "`numpy.random.pareto`\n",
    "\n",
    "This draw samples from a Pareto II or Lomax distribution with specified shape.\n",
    "\n",
    "The original Pareto distribution, is a power-law probability distribution that was originally applied to describing the distribution of wealth in a society, showing the trend that a large portion of the wealth is held by a small percentage of the population and that this is observable across a number of natural phenomena ie. that a few items account for a lot of subject and a lot of items account for a little of it.\n",
    "\n",
    "\n",
    "The Lomax or Pareto II distribution is a shifted Pareto distribution. We can obtain the original Pareto distribution from the Lomax distribution by adding 1 and multiplying by the scale parameter 2.0"
   ]
  },
  {
   "cell_type": "code",
   "execution_count": 61,
   "metadata": {},
   "outputs": [
    {
     "data": {
      "image/png": "[encoded data removed]",
      "text/plain": [
       "<Figure size 432x288 with 1 Axes>"
      ]
     },
     "metadata": {},
     "output_type": "display_data"
    }
   ],
   "source": [
    "import matplotlib.pyplot as plt\n",
    "import numpy as np\n",
    "# shape and mode\n",
    "a, m = 3., 2.  \n",
    "\n",
    "# Calculate original pareto\n",
    "s = (np.random.pareto(a, 1000) + 1) * m\n",
    "\n",
    "count, bins, _ = plt.hist(s, 100, density=True, color=\"blue\")\n",
    "fit = a*m**a / bins**(a+1)\n",
    "plt.plot(bins, max(count)*fit/max(fit), linewidth=2, color='red')\n",
    "plt.show()"
   ]
  },
  {
   "cell_type": "code",
   "execution_count": null,
   "metadata": {},
   "outputs": [],
   "source": []
  },
  {
   "cell_type": "markdown",
   "metadata": {},
   "source": [
    "## Random Generators\n",
    "\n",
    "### RandomState\n",
    "\n",
    "`numpy.random.RandomState` \n",
    "\n",
    "The container for the Mersenne Twister pseudo-random number generator. \n",
    "\n",
    "This class is what is primarily used in NumPy to generate random numbers. If no seed is provided, the generator will try to use the system clock as a seed.\n",
    "\n",
    "### seed\n",
    "`numpy.random.seed`\n",
    "\n",
    "We can use `seed` to seed the RandomState generator. The only requirement is that it must be convertible to 32 bit unsigned integers.\n",
    "\n",
    "One of the main uses a seed is when testing a program you've written and you want to make sure you generate the same pseudo-random numbers. This works as a seed is actually the starting point in the sequence. If we use same seed every time, it will yield same sequence of random numbers.\n",
    "\n"
   ]
  },
  {
   "cell_type": "code",
   "execution_count": 29,
   "metadata": {},
   "outputs": [
    {
     "name": "stdout",
     "output_type": "stream",
     "text": [
      "a:  [0.87012414 0.58227693 0.27883894 0.18591123 0.41110013]\n",
      "b:  [0.09310829 0.97165592 0.48385998 0.2425227  0.53112383]\n"
     ]
    }
   ],
   "source": [
    "import numpy as np\n",
    "\n",
    "# Set seed\n",
    "np.random.seed(25)\n",
    "\n",
    "# Generate random numbers\n",
    "a = np.random.rand(5)\n",
    "\n",
    "# Change seed\n",
    "np.random.seed(55)\n",
    "\n",
    "# Generate random numbers again\n",
    "b = np.random.rand(5)\n",
    "\n",
    "# Output results\n",
    "print(\"a: \", a)\n",
    "print(\"b: \", b)"
   ]
  },
  {
   "cell_type": "markdown",
   "metadata": {},
   "source": [
    "## References:\n",
    "\n",
    "\n",
    "https://docs.scipy.org/doc/numpy-1.15.1/reference/routines.random.html\n",
    "\n",
    "https://www.quora.com/What-is-seed-in-random-number-generation\n",
    "\n",
    "https://www.dummies.com/education/math/statistics/what-the-distribution-tells-you-about-a-statistical-data-set/\n",
    "\n",
    "https://magoosh.com/statistics/understanding-binomial-distribution/\n",
    "\n",
    "http://wiki.stat.ucla.edu/socr/index.php/AP_Statistics_Curriculum_2007_Pareto\n"
   ]
  },
  {
   "cell_type": "code",
   "execution_count": null,
   "metadata": {},
   "outputs": [],
   "source": []
  }
 ],
 "metadata": {
  "kernelspec": {
   "display_name": "Python 3",
   "language": "python",
   "name": "python3"
  },
  "language_info": {
   "codemirror_mode": {
    "name": "ipython",
    "version": 3
   },
   "file_extension": ".py",
   "mimetype": "text/x-python",
   "name": "python",
   "nbconvert_exporter": "python",
   "pygments_lexer": "ipython3",
   "version": "3.6.5"
  }
 },
 "nbformat": 4,
 "nbformat_minor": 2
}
